{
  "nbformat": 4,
  "nbformat_minor": 0,
  "metadata": {
    "colab": {
      "name": "nmf_hyperparam_tuning.ipynb",
      "provenance": []
    },
    "kernelspec": {
      "name": "python3",
      "display_name": "Python 3"
    },
    "language_info": {
      "name": "python"
    }
  },
  "cells": [
    {
      "cell_type": "code",
      "metadata": {
        "colab": {
          "base_uri": "https://localhost:8080/"
        },
        "id": "cdpLfVHfRPCy",
        "outputId": "7abbb1f6-a450-4ad0-b8e4-76211d5ec0f9"
      },
      "source": [
        "!pip install scikit-surprise\n",
        "!pip install optuna"
      ],
      "execution_count": null,
      "outputs": [
        {
          "output_type": "stream",
          "text": [
            "Collecting scikit-surprise\n",
            "\u001b[?25l  Downloading https://files.pythonhosted.org/packages/97/37/5d334adaf5ddd65da99fc65f6507e0e4599d092ba048f4302fe8775619e8/scikit-surprise-1.1.1.tar.gz (11.8MB)\n",
            "\u001b[K     |████████████████████████████████| 11.8MB 294kB/s \n",
            "\u001b[?25hRequirement already satisfied: joblib>=0.11 in /usr/local/lib/python3.7/dist-packages (from scikit-surprise) (1.0.1)\n",
            "Requirement already satisfied: numpy>=1.11.2 in /usr/local/lib/python3.7/dist-packages (from scikit-surprise) (1.19.5)\n",
            "Requirement already satisfied: scipy>=1.0.0 in /usr/local/lib/python3.7/dist-packages (from scikit-surprise) (1.4.1)\n",
            "Requirement already satisfied: six>=1.10.0 in /usr/local/lib/python3.7/dist-packages (from scikit-surprise) (1.15.0)\n",
            "Building wheels for collected packages: scikit-surprise\n",
            "  Building wheel for scikit-surprise (setup.py) ... \u001b[?25l\u001b[?25hdone\n",
            "  Created wheel for scikit-surprise: filename=scikit_surprise-1.1.1-cp37-cp37m-linux_x86_64.whl size=1617671 sha256=f6eba63dd6b2cc40c7f10704d9447cbdd296c1995251350d379b72bf940b2b72\n",
            "  Stored in directory: /root/.cache/pip/wheels/78/9c/3d/41b419c9d2aff5b6e2b4c0fc8d25c538202834058f9ed110d0\n",
            "Successfully built scikit-surprise\n",
            "Installing collected packages: scikit-surprise\n",
            "Successfully installed scikit-surprise-1.1.1\n",
            "Collecting optuna\n",
            "\u001b[?25l  Downloading https://files.pythonhosted.org/packages/1a/18/b49ca91cf592747e19f2d333c2a86cd7c81895b922a5a09adf6335471576/optuna-2.8.0-py3-none-any.whl (301kB)\n",
            "\u001b[K     |████████████████████████████████| 307kB 4.0MB/s \n",
            "\u001b[?25hCollecting cmaes>=0.8.2\n",
            "  Downloading https://files.pythonhosted.org/packages/01/1f/43b01223a0366171f474320c6e966c39a11587287f098a5f09809b45e05f/cmaes-0.8.2-py3-none-any.whl\n",
            "Collecting alembic\n",
            "\u001b[?25l  Downloading https://files.pythonhosted.org/packages/d5/80/ef186e599a57d0e4cb78fc76e0bfc2e6953fa9716b2a5cf2de0117ed8eb5/alembic-1.6.5-py2.py3-none-any.whl (164kB)\n",
            "\u001b[K     |████████████████████████████████| 174kB 22.0MB/s \n",
            "\u001b[?25hRequirement already satisfied: numpy in /usr/local/lib/python3.7/dist-packages (from optuna) (1.19.5)\n",
            "Collecting colorlog\n",
            "  Downloading https://files.pythonhosted.org/packages/32/e6/e9ddc6fa1104fda718338b341e4b3dc31cd8039ab29e52fc73b508515361/colorlog-5.0.1-py2.py3-none-any.whl\n",
            "Collecting cliff\n",
            "\u001b[?25l  Downloading https://files.pythonhosted.org/packages/87/11/aea1cacbd4cf8262809c4d6f95dcb3f2802594de1f51c5bd454d69bf15c5/cliff-3.8.0-py3-none-any.whl (80kB)\n",
            "\u001b[K     |████████████████████████████████| 81kB 7.9MB/s \n",
            "\u001b[?25hRequirement already satisfied: scipy!=1.4.0 in /usr/local/lib/python3.7/dist-packages (from optuna) (1.4.1)\n",
            "Requirement already satisfied: packaging>=20.0 in /usr/local/lib/python3.7/dist-packages (from optuna) (20.9)\n",
            "Requirement already satisfied: sqlalchemy>=1.1.0 in /usr/local/lib/python3.7/dist-packages (from optuna) (1.4.15)\n",
            "Requirement already satisfied: tqdm in /usr/local/lib/python3.7/dist-packages (from optuna) (4.41.1)\n",
            "Collecting python-editor>=0.3\n",
            "  Downloading https://files.pythonhosted.org/packages/c6/d3/201fc3abe391bbae6606e6f1d598c15d367033332bd54352b12f35513717/python_editor-1.0.4-py3-none-any.whl\n",
            "Collecting Mako\n",
            "\u001b[?25l  Downloading https://files.pythonhosted.org/packages/f3/54/dbc07fbb20865d3b78fdb7cf7fa713e2cba4f87f71100074ef2dc9f9d1f7/Mako-1.1.4-py2.py3-none-any.whl (75kB)\n",
            "\u001b[K     |████████████████████████████████| 81kB 9.1MB/s \n",
            "\u001b[?25hRequirement already satisfied: python-dateutil in /usr/local/lib/python3.7/dist-packages (from alembic->optuna) (2.8.1)\n",
            "Requirement already satisfied: PyYAML>=3.12 in /usr/local/lib/python3.7/dist-packages (from cliff->optuna) (3.13)\n",
            "Collecting stevedore>=2.0.1\n",
            "\u001b[?25l  Downloading https://files.pythonhosted.org/packages/d4/49/b602307aeac3df3384ff1fcd05da9c0376c622a6c48bb5325f28ab165b57/stevedore-3.3.0-py3-none-any.whl (49kB)\n",
            "\u001b[K     |████████████████████████████████| 51kB 5.9MB/s \n",
            "\u001b[?25hRequirement already satisfied: PrettyTable>=0.7.2 in /usr/local/lib/python3.7/dist-packages (from cliff->optuna) (2.1.0)\n",
            "Collecting cmd2>=1.0.0\n",
            "\u001b[?25l  Downloading https://files.pythonhosted.org/packages/d1/06/ea782764035efa0633b6353202f3f86b7c390fe11d4dfd33af9b49344130/cmd2-2.0.1-py3-none-any.whl (139kB)\n",
            "\u001b[K     |████████████████████████████████| 143kB 18.6MB/s \n",
            "\u001b[?25hCollecting pbr!=2.1.0,>=2.0.0\n",
            "\u001b[?25l  Downloading https://files.pythonhosted.org/packages/18/e0/1d4702dd81121d04a477c272d47ee5b6bc970d1a0990b11befa275c55cf2/pbr-5.6.0-py2.py3-none-any.whl (111kB)\n",
            "\u001b[K     |████████████████████████████████| 112kB 18.7MB/s \n",
            "\u001b[?25hRequirement already satisfied: pyparsing>=2.1.0 in /usr/local/lib/python3.7/dist-packages (from cliff->optuna) (2.4.7)\n",
            "Requirement already satisfied: importlib-metadata; python_version < \"3.8\" in /usr/local/lib/python3.7/dist-packages (from sqlalchemy>=1.1.0->optuna) (4.0.1)\n",
            "Requirement already satisfied: greenlet!=0.4.17; python_version >= \"3\" in /usr/local/lib/python3.7/dist-packages (from sqlalchemy>=1.1.0->optuna) (1.1.0)\n",
            "Requirement already satisfied: MarkupSafe>=0.9.2 in /usr/local/lib/python3.7/dist-packages (from Mako->alembic->optuna) (2.0.1)\n",
            "Requirement already satisfied: six>=1.5 in /usr/local/lib/python3.7/dist-packages (from python-dateutil->alembic->optuna) (1.15.0)\n",
            "Requirement already satisfied: wcwidth in /usr/local/lib/python3.7/dist-packages (from PrettyTable>=0.7.2->cliff->optuna) (0.2.5)\n",
            "Collecting colorama>=0.3.7\n",
            "  Downloading https://files.pythonhosted.org/packages/44/98/5b86278fbbf250d239ae0ecb724f8572af1c91f4a11edf4d36a206189440/colorama-0.4.4-py2.py3-none-any.whl\n",
            "Collecting pyperclip>=1.6\n",
            "  Downloading https://files.pythonhosted.org/packages/a7/2c/4c64579f847bd5d539803c8b909e54ba087a79d01bb3aba433a95879a6c5/pyperclip-1.8.2.tar.gz\n",
            "Requirement already satisfied: typing-extensions; python_version < \"3.8\" in /usr/local/lib/python3.7/dist-packages (from cmd2>=1.0.0->cliff->optuna) (3.7.4.3)\n",
            "Requirement already satisfied: attrs>=16.3.0 in /usr/local/lib/python3.7/dist-packages (from cmd2>=1.0.0->cliff->optuna) (21.2.0)\n",
            "Requirement already satisfied: zipp>=0.5 in /usr/local/lib/python3.7/dist-packages (from importlib-metadata; python_version < \"3.8\"->sqlalchemy>=1.1.0->optuna) (3.4.1)\n",
            "Building wheels for collected packages: pyperclip\n",
            "  Building wheel for pyperclip (setup.py) ... \u001b[?25l\u001b[?25hdone\n",
            "  Created wheel for pyperclip: filename=pyperclip-1.8.2-cp37-none-any.whl size=11136 sha256=3ddb6ea0aa01262c8ce4a95f1f7590dd18de138316354dadba2e4a1dd6a3cb82\n",
            "  Stored in directory: /root/.cache/pip/wheels/25/af/b8/3407109267803f4015e1ee2ff23be0c8c19ce4008665931ee1\n",
            "Successfully built pyperclip\n",
            "Installing collected packages: cmaes, python-editor, Mako, alembic, colorlog, pbr, stevedore, colorama, pyperclip, cmd2, cliff, optuna\n",
            "Successfully installed Mako-1.1.4 alembic-1.6.5 cliff-3.8.0 cmaes-0.8.2 cmd2-2.0.1 colorama-0.4.4 colorlog-5.0.1 optuna-2.8.0 pbr-5.6.0 pyperclip-1.8.2 python-editor-1.0.4 stevedore-3.3.0\n"
          ],
          "name": "stdout"
        }
      ]
    },
    {
      "cell_type": "code",
      "metadata": {
        "id": "NeC1TLkwUCYQ",
        "colab": {
          "base_uri": "https://localhost:8080/"
        },
        "outputId": "98e8e245-3bee-4348-9f04-0d911e3b24dd"
      },
      "source": [
        "# Mount Google Drive and set data paths.\n",
        "import os\n",
        "from google.colab import drive\n",
        "from google.colab import files\n",
        "\n",
        "drive.mount('/content/gdrive')\n",
        "DATA_PATH = \"/content/gdrive/My Drive/ETH/Computational Intelligence Lab/CIL-Project/data\"\n",
        "TRAIN_DATA_PATH = os.path.join(DATA_PATH, \"data_train.csv\")\n",
        "TEST_DATA_PATH = os.path.join(DATA_PATH, \"data_test.csv\")"
      ],
      "execution_count": null,
      "outputs": [
        {
          "output_type": "stream",
          "text": [
            "Mounted at /content/gdrive\n"
          ],
          "name": "stdout"
        }
      ]
    },
    {
      "cell_type": "code",
      "metadata": {
        "id": "WTdQmEjzTVbo"
      },
      "source": [
        "import numpy as np\n",
        "import pandas as pd\n",
        "import torch\n",
        "from torch.utils.data import TensorDataset\n",
        "from sklearn.model_selection import train_test_split\n",
        "import surprise\n",
        "from surprise import accuracy\n",
        "from surprise.model_selection import cross_validate\n",
        "import optuna"
      ],
      "execution_count": null,
      "outputs": []
    },
    {
      "cell_type": "code",
      "metadata": {
        "id": "BsMm8IlJThhs"
      },
      "source": [
        "def load_data(file_path: str, full_dataset: bool, train_val_split: bool, random_seed: int = 0, train_size: float = 0):\n",
        "    data_pd = pd.read_csv(file_path)\n",
        "\n",
        "    # Reduce Dataset for Testing\n",
        "    if not full_dataset:\n",
        "        data_pd = data_pd.head(10000)\n",
        "\n",
        "    if train_val_split:\n",
        "        train_pd, val_pd = train_test_split(data_pd, train_size=train_size, random_state=random_seed)\n",
        "        return train_pd, val_pd\n",
        "    else:\n",
        "        return data_pd\n",
        "\n",
        "def __extract_users_items_ratings(data_pd: pd.DataFrame):\n",
        "    users, movies = \\\n",
        "        [np.squeeze(arr) for arr in np.split(data_pd.Id.str.extract('r(\\d+)_c(\\d+)').values.astype(int) - 1, 2, axis=-1)]\n",
        "    ratings = data_pd.Prediction.values\n",
        "    return users, movies, ratings\n",
        "\n",
        "def create_surprise_data(data_pd):\n",
        "    users, movies, ratings = __extract_users_items_ratings(data_pd)\n",
        "\n",
        "    df = pd.DataFrame({\n",
        "        'users': users,\n",
        "        'movies': movies,\n",
        "        'ratings': ratings\n",
        "    })\n",
        "    reader = surprise.Reader(rating_scale=(1, 5))\n",
        "    return surprise.Dataset.load_from_df(df[['users', 'movies', 'ratings']], reader=reader)\n",
        "\n",
        "def __get_tensors_from_dataframe(data_pd: pd.DataFrame):\n",
        "    users, movies, ratings = __extract_users_items_ratings(data_pd)\n",
        "    users_torch = torch.tensor(users, dtype=torch.int64)\n",
        "    movies_torch = torch.tensor(movies, dtype=torch.int64)\n",
        "    ratings_torch = torch.tensor(ratings, dtype=torch.int64)\n",
        "\n",
        "    return users_torch, movies_torch, ratings_torch\n",
        "\n",
        "\n",
        "def create_dataset(data_pd: pd.DataFrame, test_dataset: bool = False):\n",
        "    users_torch, movies_torch, ratings_torch = __get_tensors_from_dataframe(data_pd)\n",
        "\n",
        "    if not test_dataset:\n",
        "        return TensorDataset(users_torch, movies_torch, ratings_torch)\n",
        "    else:\n",
        "        test_ids = data_pd.Id\n",
        "        return test_ids, TensorDataset(users_torch, movies_torch)"
      ],
      "execution_count": null,
      "outputs": []
    },
    {
      "cell_type": "code",
      "metadata": {
        "id": "7S9Y9-J9Uwl8"
      },
      "source": [
        "random_seed = 42\n",
        "full_dataset = True\n",
        "\n",
        "np.random.seed(random_seed)\n",
        "\n",
        "train_pd = load_data(\n",
        "    file_path=TRAIN_DATA_PATH,\n",
        "    full_dataset=full_dataset,\n",
        "    train_val_split=False\n",
        ")"
      ],
      "execution_count": null,
      "outputs": []
    },
    {
      "cell_type": "code",
      "metadata": {
        "id": "5lsAHFn4VXR_"
      },
      "source": [
        "train_data = create_surprise_data(train_pd)\n",
        "trainset, testset = surprise.model_selection.train_test_split(train_data, test_size=0.2)"
      ],
      "execution_count": null,
      "outputs": []
    },
    {
      "cell_type": "code",
      "metadata": {
        "id": "TlaGkYGIqR50"
      },
      "source": [
        "from surprise import NMF\n",
        "\n",
        "def objective(trial):\n",
        "    biased = trial.suggest_categorical(\"biased\", [False, True])\n",
        "    n_factors = trial.suggest_int(\"n_factors\", 2, 100)\n",
        "    n_epochs = trial.suggest_int(\"n_epochs\", 10, 100)\n",
        "    init_low = trial.suggest_int(\"init_low\", 0, 5)\n",
        "    init_high = trial.suggest_int(\"init_high\", 0 , 5)\n",
        "\n",
        "    algo = NMF(biased=biased, n_factors=n_factors, n_epochs=n_epochs, init_low=init_low, init_high=init_high)\n",
        "    \n",
        "    algo.fit(trainset)\n",
        "    predictions = algo.test(testset)\n",
        "    rmse = accuracy.rmse(predictions)\n",
        "    return rmse"
      ],
      "execution_count": null,
      "outputs": []
    },
    {
      "cell_type": "code",
      "metadata": {
        "id": "IC3XXz8zZd5z",
        "colab": {
          "base_uri": "https://localhost:8080/"
        },
        "outputId": "49042ab6-c9b2-4534-db8c-0e6d2620a749"
      },
      "source": [
        "study = optuna.create_study(direction=\"minimize\")"
      ],
      "execution_count": null,
      "outputs": [
        {
          "output_type": "stream",
          "text": [
            "\u001b[32m[I 2021-06-08 19:04:01,053]\u001b[0m A new study created in memory with name: no-name-4a5c1cdc-844c-46e1-80e6-95c7f4065b17\u001b[0m\n"
          ],
          "name": "stderr"
        }
      ]
    },
    {
      "cell_type": "code",
      "metadata": {
        "id": "0p6UXf_dvAtU",
        "colab": {
          "base_uri": "https://localhost:8080/"
        },
        "outputId": "be1eec8c-d340-42a5-d1f1-40993d876591"
      },
      "source": [
        "# Enqueue trials with default parameters.\n",
        "study.enqueue_trial(\n",
        "    {\n",
        "        \"biased\": False,\n",
        "        \"n_factors\": 15,\n",
        "        \"n_epochs\": 50,\n",
        "        \"init_low\": 0,\n",
        "        \"init_high\": 1\n",
        "    }\n",
        ")"
      ],
      "execution_count": null,
      "outputs": [
        {
          "output_type": "stream",
          "text": [
            "/usr/local/lib/python3.7/dist-packages/ipykernel_launcher.py:8: ExperimentalWarning:\n",
            "\n",
            "enqueue_trial is experimental (supported from v1.2.0). The interface can change in the future.\n",
            "\n",
            "/usr/local/lib/python3.7/dist-packages/optuna/study.py:858: ExperimentalWarning:\n",
            "\n",
            "create_trial is experimental (supported from v2.0.0). The interface can change in the future.\n",
            "\n",
            "/usr/local/lib/python3.7/dist-packages/optuna/study.py:858: ExperimentalWarning:\n",
            "\n",
            "add_trial is experimental (supported from v2.0.0). The interface can change in the future.\n",
            "\n"
          ],
          "name": "stderr"
        }
      ]
    },
    {
      "cell_type": "code",
      "metadata": {
        "id": "CknDptCssujY",
        "colab": {
          "base_uri": "https://localhost:8080/"
        },
        "outputId": "892fd4a1-76ea-4cf2-ce0a-30a4f492b250"
      },
      "source": [
        "study.optimize(objective, n_trials=80)"
      ],
      "execution_count": null,
      "outputs": [
        {
          "output_type": "stream",
          "text": [
            "\u001b[32m[I 2021-06-08 19:05:11,125]\u001b[0m Trial 0 finished with value: 1.0090560166643434 and parameters: {'biased': False, 'n_factors': 15, 'n_epochs': 50, 'init_low': 0, 'init_high': 1}. Best is trial 0 with value: 1.0090560166643434.\u001b[0m\n"
          ],
          "name": "stderr"
        },
        {
          "output_type": "stream",
          "text": [
            "RMSE: 1.0091\n"
          ],
          "name": "stdout"
        },
        {
          "output_type": "stream",
          "text": [
            "\u001b[32m[I 2021-06-08 19:08:13,184]\u001b[0m Trial 1 finished with value: 1.0036458570903077 and parameters: {'biased': True, 'n_factors': 33, 'n_epochs': 98, 'init_low': 4, 'init_high': 4}. Best is trial 1 with value: 1.0036458570903077.\u001b[0m\n"
          ],
          "name": "stderr"
        },
        {
          "output_type": "stream",
          "text": [
            "RMSE: 1.0036\n"
          ],
          "name": "stdout"
        },
        {
          "output_type": "stream",
          "text": [
            "\u001b[32m[I 2021-06-08 19:10:03,895]\u001b[0m Trial 2 finished with value: 1.0814862694986065 and parameters: {'biased': True, 'n_factors': 85, 'n_epochs': 33, 'init_low': 0, 'init_high': 4}. Best is trial 1 with value: 1.0036458570903077.\u001b[0m\n"
          ],
          "name": "stderr"
        },
        {
          "output_type": "stream",
          "text": [
            "RMSE: 1.0815\n"
          ],
          "name": "stdout"
        },
        {
          "output_type": "stream",
          "text": [
            "\u001b[32m[I 2021-06-08 19:15:44,190]\u001b[0m Trial 3 finished with value: 1.1046080131509843 and parameters: {'biased': True, 'n_factors': 88, 'n_epochs': 98, 'init_low': 3, 'init_high': 1}. Best is trial 1 with value: 1.0036458570903077.\u001b[0m\n"
          ],
          "name": "stderr"
        },
        {
          "output_type": "stream",
          "text": [
            "RMSE: 1.1046\n"
          ],
          "name": "stdout"
        },
        {
          "output_type": "stream",
          "text": [
            "\u001b[32m[I 2021-06-08 19:17:23,479]\u001b[0m Trial 4 finished with value: 1.2076023909307116 and parameters: {'biased': True, 'n_factors': 58, 'n_epochs': 38, 'init_low': 0, 'init_high': 2}. Best is trial 1 with value: 1.0036458570903077.\u001b[0m\n"
          ],
          "name": "stderr"
        },
        {
          "output_type": "stream",
          "text": [
            "RMSE: 1.2076\n"
          ],
          "name": "stdout"
        },
        {
          "output_type": "stream",
          "text": [
            "\u001b[32m[I 2021-06-08 19:19:54,395]\u001b[0m Trial 5 finished with value: 1.1949295997146336 and parameters: {'biased': True, 'n_factors': 39, 'n_epochs': 72, 'init_low': 0, 'init_high': 5}. Best is trial 1 with value: 1.0036458570903077.\u001b[0m\n"
          ],
          "name": "stderr"
        },
        {
          "output_type": "stream",
          "text": [
            "RMSE: 1.1949\n"
          ],
          "name": "stdout"
        },
        {
          "output_type": "stream",
          "text": [
            "\u001b[32m[I 2021-06-08 19:20:35,792]\u001b[0m Trial 6 finished with value: 1.4324113770348108 and parameters: {'biased': True, 'n_factors': 58, 'n_epochs': 15, 'init_low': 5, 'init_high': 5}. Best is trial 1 with value: 1.0036458570903077.\u001b[0m\n"
          ],
          "name": "stderr"
        },
        {
          "output_type": "stream",
          "text": [
            "RMSE: 1.4324\n"
          ],
          "name": "stdout"
        },
        {
          "output_type": "stream",
          "text": [
            "\u001b[32m[I 2021-06-08 19:25:56,152]\u001b[0m Trial 7 finished with value: 1.0575800794804895 and parameters: {'biased': True, 'n_factors': 87, 'n_epochs': 92, 'init_low': 5, 'init_high': 3}. Best is trial 1 with value: 1.0036458570903077.\u001b[0m\n"
          ],
          "name": "stderr"
        },
        {
          "output_type": "stream",
          "text": [
            "RMSE: 1.0576\n"
          ],
          "name": "stdout"
        },
        {
          "output_type": "stream",
          "text": [
            "\u001b[32m[I 2021-06-08 19:26:56,346]\u001b[0m Trial 8 finished with value: 1.1391994677641315 and parameters: {'biased': True, 'n_factors': 45, 'n_epochs': 25, 'init_low': 2, 'init_high': 5}. Best is trial 1 with value: 1.0036458570903077.\u001b[0m\n"
          ],
          "name": "stderr"
        },
        {
          "output_type": "stream",
          "text": [
            "RMSE: 1.1392\n"
          ],
          "name": "stdout"
        },
        {
          "output_type": "stream",
          "text": [
            "\u001b[32m[I 2021-06-08 19:29:37,536]\u001b[0m Trial 9 finished with value: 1.129266929461411 and parameters: {'biased': True, 'n_factors': 70, 'n_epochs': 53, 'init_low': 3, 'init_high': 4}. Best is trial 1 with value: 1.0036458570903077.\u001b[0m\n"
          ],
          "name": "stderr"
        },
        {
          "output_type": "stream",
          "text": [
            "RMSE: 1.1293\n"
          ],
          "name": "stdout"
        },
        {
          "output_type": "stream",
          "text": [
            "\u001b[32m[I 2021-06-08 19:31:06,022]\u001b[0m Trial 10 finished with value: 1.115524911165342 and parameters: {'biased': False, 'n_factors': 6, 'n_epochs': 80, 'init_low': 4, 'init_high': 3}. Best is trial 1 with value: 1.0036458570903077.\u001b[0m\n"
          ],
          "name": "stderr"
        },
        {
          "output_type": "stream",
          "text": [
            "RMSE: 1.1155\n"
          ],
          "name": "stdout"
        },
        {
          "output_type": "stream",
          "text": [
            "\u001b[32m[I 2021-06-08 19:32:25,756]\u001b[0m Trial 11 finished with value: 1.1511433404914173 and parameters: {'biased': False, 'n_factors': 16, 'n_epochs': 56, 'init_low': 2, 'init_high': 0}. Best is trial 1 with value: 1.0036458570903077.\u001b[0m\n"
          ],
          "name": "stderr"
        },
        {
          "output_type": "stream",
          "text": [
            "RMSE: 1.1511\n"
          ],
          "name": "stdout"
        },
        {
          "output_type": "stream",
          "text": [
            "\u001b[32m[I 2021-06-08 19:34:02,256]\u001b[0m Trial 12 finished with value: 1.3154385926037828 and parameters: {'biased': False, 'n_factors': 26, 'n_epochs': 56, 'init_low': 4, 'init_high': 0}. Best is trial 1 with value: 1.0036458570903077.\u001b[0m\n"
          ],
          "name": "stderr"
        },
        {
          "output_type": "stream",
          "text": [
            "RMSE: 1.3154\n"
          ],
          "name": "stdout"
        },
        {
          "output_type": "stream",
          "text": [
            "\u001b[32m[I 2021-06-08 19:36:07,274]\u001b[0m Trial 13 finished with value: 1.1876452985269745 and parameters: {'biased': False, 'n_factors': 28, 'n_epochs': 71, 'init_low': 1, 'init_high': 1}. Best is trial 1 with value: 1.0036458570903077.\u001b[0m\n"
          ],
          "name": "stderr"
        },
        {
          "output_type": "stream",
          "text": [
            "RMSE: 1.1876\n"
          ],
          "name": "stdout"
        },
        {
          "output_type": "stream",
          "text": [
            "\u001b[32m[I 2021-06-08 19:36:55,534]\u001b[0m Trial 14 finished with value: 1.6489080464018155 and parameters: {'biased': False, 'n_factors': 4, 'n_epochs': 45, 'init_low': 4, 'init_high': 2}. Best is trial 1 with value: 1.0036458570903077.\u001b[0m\n"
          ],
          "name": "stderr"
        },
        {
          "output_type": "stream",
          "text": [
            "RMSE: 1.6489\n"
          ],
          "name": "stdout"
        },
        {
          "output_type": "stream",
          "text": [
            "\u001b[32m[I 2021-06-08 19:38:33,557]\u001b[0m Trial 15 finished with value: 1.1800473328889065 and parameters: {'biased': False, 'n_factors': 18, 'n_epochs': 67, 'init_low': 1, 'init_high': 1}. Best is trial 1 with value: 1.0036458570903077.\u001b[0m\n"
          ],
          "name": "stderr"
        },
        {
          "output_type": "stream",
          "text": [
            "RMSE: 1.1800\n"
          ],
          "name": "stdout"
        },
        {
          "output_type": "stream",
          "text": [
            "\u001b[32m[I 2021-06-08 19:41:26,588]\u001b[0m Trial 16 finished with value: 1.0842559374747054 and parameters: {'biased': False, 'n_factors': 38, 'n_epochs': 86, 'init_low': 3, 'init_high': 4}. Best is trial 1 with value: 1.0036458570903077.\u001b[0m\n"
          ],
          "name": "stderr"
        },
        {
          "output_type": "stream",
          "text": [
            "RMSE: 1.0843\n"
          ],
          "name": "stdout"
        },
        {
          "output_type": "stream",
          "text": [
            "\u001b[32m[I 2021-06-08 19:41:42,541]\u001b[0m Trial 17 finished with value: 1.5971405493085367 and parameters: {'biased': False, 'n_factors': 15, 'n_epochs': 10, 'init_low': 5, 'init_high': 2}. Best is trial 1 with value: 1.0036458570903077.\u001b[0m\n"
          ],
          "name": "stderr"
        },
        {
          "output_type": "stream",
          "text": [
            "RMSE: 1.5971\n"
          ],
          "name": "stdout"
        },
        {
          "output_type": "stream",
          "text": [
            "\u001b[32m[I 2021-06-08 19:43:31,808]\u001b[0m Trial 18 finished with value: 1.0313210799905268 and parameters: {'biased': True, 'n_factors': 28, 'n_epochs': 62, 'init_low': 1, 'init_high': 3}. Best is trial 1 with value: 1.0036458570903077.\u001b[0m\n"
          ],
          "name": "stderr"
        },
        {
          "output_type": "stream",
          "text": [
            "RMSE: 1.0313\n"
          ],
          "name": "stdout"
        },
        {
          "output_type": "stream",
          "text": [
            "\u001b[32m[I 2021-06-08 19:44:24,840]\u001b[0m Trial 19 finished with value: 1.5265915506555 and parameters: {'biased': False, 'n_factors': 8, 'n_epochs': 45, 'init_low': 4, 'init_high': 0}. Best is trial 1 with value: 1.0036458570903077.\u001b[0m\n"
          ],
          "name": "stderr"
        },
        {
          "output_type": "stream",
          "text": [
            "RMSE: 1.5266\n"
          ],
          "name": "stdout"
        },
        {
          "output_type": "stream",
          "text": [
            "\u001b[32m[I 2021-06-08 19:45:13,135]\u001b[0m Trial 20 finished with value: 1.5969387822039764 and parameters: {'biased': False, 'n_factors': 35, 'n_epochs': 24, 'init_low': 2, 'init_high': 4}. Best is trial 1 with value: 1.0036458570903077.\u001b[0m\n"
          ],
          "name": "stderr"
        },
        {
          "output_type": "stream",
          "text": [
            "RMSE: 1.5969\n"
          ],
          "name": "stdout"
        },
        {
          "output_type": "stream",
          "text": [
            "\u001b[32m[I 2021-06-08 19:46:59,945]\u001b[0m Trial 21 finished with value: 1.0169490844860345 and parameters: {'biased': True, 'n_factors': 24, 'n_epochs': 63, 'init_low': 1, 'init_high': 3}. Best is trial 1 with value: 1.0036458570903077.\u001b[0m\n"
          ],
          "name": "stderr"
        },
        {
          "output_type": "stream",
          "text": [
            "RMSE: 1.0169\n"
          ],
          "name": "stdout"
        },
        {
          "output_type": "stream",
          "text": [
            "\u001b[32m[I 2021-06-08 19:49:06,692]\u001b[0m Trial 22 finished with value: 1.0188579388533174 and parameters: {'biased': True, 'n_factors': 21, 'n_epochs': 81, 'init_low': 1, 'init_high': 3}. Best is trial 1 with value: 1.0036458570903077.\u001b[0m\n"
          ],
          "name": "stderr"
        },
        {
          "output_type": "stream",
          "text": [
            "RMSE: 1.0189\n"
          ],
          "name": "stdout"
        },
        {
          "output_type": "stream",
          "text": [
            "\u001b[32m[I 2021-06-08 19:50:35,831]\u001b[0m Trial 23 finished with value: 1.0743189253670882 and parameters: {'biased': True, 'n_factors': 32, 'n_epochs': 46, 'init_low': 0, 'init_high': 4}. Best is trial 1 with value: 1.0036458570903077.\u001b[0m\n"
          ],
          "name": "stderr"
        },
        {
          "output_type": "stream",
          "text": [
            "RMSE: 1.0743\n"
          ],
          "name": "stdout"
        },
        {
          "output_type": "stream",
          "text": [
            "\u001b[32m[I 2021-06-08 19:54:22,469]\u001b[0m Trial 24 finished with value: 1.107472510720291 and parameters: {'biased': True, 'n_factors': 47, 'n_epochs': 99, 'init_low': 1, 'init_high': 2}. Best is trial 1 with value: 1.0036458570903077.\u001b[0m\n"
          ],
          "name": "stderr"
        },
        {
          "output_type": "stream",
          "text": [
            "RMSE: 1.1075\n"
          ],
          "name": "stdout"
        },
        {
          "output_type": "stream",
          "text": [
            "\u001b[32m[I 2021-06-08 19:55:44,054]\u001b[0m Trial 25 finished with value: 1.014963662997939 and parameters: {'biased': True, 'n_factors': 11, 'n_epochs': 63, 'init_low': 0, 'init_high': 3}. Best is trial 1 with value: 1.0036458570903077.\u001b[0m\n"
          ],
          "name": "stderr"
        },
        {
          "output_type": "stream",
          "text": [
            "RMSE: 1.0150\n"
          ],
          "name": "stdout"
        },
        {
          "output_type": "stream",
          "text": [
            "\u001b[32m[I 2021-06-08 19:57:21,157]\u001b[0m Trial 26 finished with value: 1.0011956014445267 and parameters: {'biased': True, 'n_factors': 11, 'n_epochs': 76, 'init_low': 0, 'init_high': 1}. Best is trial 26 with value: 1.0011956014445267.\u001b[0m\n"
          ],
          "name": "stderr"
        },
        {
          "output_type": "stream",
          "text": [
            "RMSE: 1.0012\n"
          ],
          "name": "stdout"
        },
        {
          "output_type": "stream",
          "text": [
            "\u001b[32m[I 2021-06-08 19:58:52,578]\u001b[0m Trial 27 finished with value: 1.0043393498531548 and parameters: {'biased': True, 'n_factors': 3, 'n_epochs': 91, 'init_low': 2, 'init_high': 1}. Best is trial 26 with value: 1.0011956014445267.\u001b[0m\n"
          ],
          "name": "stderr"
        },
        {
          "output_type": "stream",
          "text": [
            "RMSE: 1.0043\n"
          ],
          "name": "stdout"
        },
        {
          "output_type": "stream",
          "text": [
            "\u001b[32m[I 2021-06-08 20:00:20,806]\u001b[0m Trial 28 finished with value: 1.003662126256191 and parameters: {'biased': True, 'n_factors': 2, 'n_epochs': 91, 'init_low': 3, 'init_high': 1}. Best is trial 26 with value: 1.0011956014445267.\u001b[0m\n"
          ],
          "name": "stderr"
        },
        {
          "output_type": "stream",
          "text": [
            "RMSE: 1.0037\n"
          ],
          "name": "stdout"
        },
        {
          "output_type": "stream",
          "text": [
            "\u001b[32m[I 2021-06-08 20:01:59,857]\u001b[0m Trial 29 finished with value: 1.0073386562048856 and parameters: {'biased': True, 'n_factors': 11, 'n_epochs': 78, 'init_low': 3, 'init_high': 0}. Best is trial 26 with value: 1.0011956014445267.\u001b[0m\n"
          ],
          "name": "stderr"
        },
        {
          "output_type": "stream",
          "text": [
            "RMSE: 1.0073\n"
          ],
          "name": "stdout"
        },
        {
          "output_type": "stream",
          "text": [
            "\u001b[32m[I 2021-06-08 20:05:48,308]\u001b[0m Trial 30 finished with value: 1.100057197046043 and parameters: {'biased': True, 'n_factors': 54, 'n_epochs': 93, 'init_low': 4, 'init_high': 1}. Best is trial 26 with value: 1.0011956014445267.\u001b[0m\n"
          ],
          "name": "stderr"
        },
        {
          "output_type": "stream",
          "text": [
            "RMSE: 1.1001\n"
          ],
          "name": "stdout"
        },
        {
          "output_type": "stream",
          "text": [
            "\u001b[32m[I 2021-06-08 20:07:17,965]\u001b[0m Trial 31 finished with value: 1.0032878057315486 and parameters: {'biased': True, 'n_factors': 2, 'n_epochs': 90, 'init_low': 3, 'init_high': 1}. Best is trial 26 with value: 1.0011956014445267.\u001b[0m\n"
          ],
          "name": "stderr"
        },
        {
          "output_type": "stream",
          "text": [
            "RMSE: 1.0033\n"
          ],
          "name": "stdout"
        },
        {
          "output_type": "stream",
          "text": [
            "\u001b[32m[I 2021-06-08 20:08:49,074]\u001b[0m Trial 32 finished with value: 1.0060645887858277 and parameters: {'biased': True, 'n_factors': 4, 'n_epochs': 86, 'init_low': 3, 'init_high': 2}. Best is trial 26 with value: 1.0011956014445267.\u001b[0m\n"
          ],
          "name": "stderr"
        },
        {
          "output_type": "stream",
          "text": [
            "RMSE: 1.0061\n"
          ],
          "name": "stdout"
        },
        {
          "output_type": "stream",
          "text": [
            "\u001b[32m[I 2021-06-08 20:10:29,466]\u001b[0m Trial 33 finished with value: 1.003925704121278 and parameters: {'biased': True, 'n_factors': 2, 'n_epochs': 100, 'init_low': 3, 'init_high': 1}. Best is trial 26 with value: 1.0011956014445267.\u001b[0m\n"
          ],
          "name": "stderr"
        },
        {
          "output_type": "stream",
          "text": [
            "RMSE: 1.0039\n"
          ],
          "name": "stdout"
        },
        {
          "output_type": "stream",
          "text": [
            "\u001b[32m[I 2021-06-08 20:12:36,797]\u001b[0m Trial 34 finished with value: 1.0265488164897083 and parameters: {'biased': True, 'n_factors': 13, 'n_epochs': 95, 'init_low': 4, 'init_high': 0}. Best is trial 26 with value: 1.0011956014445267.\u001b[0m\n"
          ],
          "name": "stderr"
        },
        {
          "output_type": "stream",
          "text": [
            "RMSE: 1.0265\n"
          ],
          "name": "stdout"
        },
        {
          "output_type": "stream",
          "text": [
            "\u001b[32m[I 2021-06-08 20:16:58,764]\u001b[0m Trial 35 finished with value: 1.214142279514267 and parameters: {'biased': True, 'n_factors': 74, 'n_epochs': 86, 'init_low': 3, 'init_high': 1}. Best is trial 26 with value: 1.0011956014445267.\u001b[0m\n"
          ],
          "name": "stderr"
        },
        {
          "output_type": "stream",
          "text": [
            "RMSE: 1.2141\n"
          ],
          "name": "stdout"
        },
        {
          "output_type": "stream",
          "text": [
            "\u001b[32m[I 2021-06-08 20:18:52,417]\u001b[0m Trial 36 finished with value: 1.0170083891975894 and parameters: {'biased': True, 'n_factors': 20, 'n_epochs': 75, 'init_low': 4, 'init_high': 2}. Best is trial 26 with value: 1.0011956014445267.\u001b[0m\n"
          ],
          "name": "stderr"
        },
        {
          "output_type": "stream",
          "text": [
            "RMSE: 1.0170\n"
          ],
          "name": "stdout"
        },
        {
          "output_type": "stream",
          "text": [
            "\u001b[32m[I 2021-06-08 20:21:01,611]\u001b[0m Trial 37 finished with value: 1.0104121805223976 and parameters: {'biased': True, 'n_factors': 11, 'n_epochs': 100, 'init_low': 2, 'init_high': 1}. Best is trial 26 with value: 1.0011956014445267.\u001b[0m\n"
          ],
          "name": "stderr"
        },
        {
          "output_type": "stream",
          "text": [
            "RMSE: 1.0104\n"
          ],
          "name": "stdout"
        },
        {
          "output_type": "stream",
          "text": [
            "\u001b[32m[I 2021-06-08 20:24:16,183]\u001b[0m Trial 38 finished with value: 1.027339417727558 and parameters: {'biased': True, 'n_factors': 45, 'n_epochs': 87, 'init_low': 3, 'init_high': 2}. Best is trial 26 with value: 1.0011956014445267.\u001b[0m\n"
          ],
          "name": "stderr"
        },
        {
          "output_type": "stream",
          "text": [
            "RMSE: 1.0273\n"
          ],
          "name": "stdout"
        },
        {
          "output_type": "stream",
          "text": [
            "\u001b[32m[I 2021-06-08 20:25:49,195]\u001b[0m Trial 39 finished with value: 1.0031072819226596 and parameters: {'biased': True, 'n_factors': 2, 'n_epochs': 96, 'init_low': 5, 'init_high': 1}. Best is trial 26 with value: 1.0011956014445267.\u001b[0m\n"
          ],
          "name": "stderr"
        },
        {
          "output_type": "stream",
          "text": [
            "RMSE: 1.0031\n"
          ],
          "name": "stdout"
        },
        {
          "output_type": "stream",
          "text": [
            "\u001b[32m[I 2021-06-08 20:31:37,262]\u001b[0m Trial 40 finished with value: 1.0068518231862362 and parameters: {'biased': True, 'n_factors': 97, 'n_epochs': 97, 'init_low': 5, 'init_high': 5}. Best is trial 26 with value: 1.0011956014445267.\u001b[0m\n"
          ],
          "name": "stderr"
        },
        {
          "output_type": "stream",
          "text": [
            "RMSE: 1.0069\n"
          ],
          "name": "stdout"
        },
        {
          "output_type": "stream",
          "text": [
            "\u001b[32m[I 2021-06-08 20:33:16,497]\u001b[0m Trial 41 finished with value: 1.0062867448844626 and parameters: {'biased': True, 'n_factors': 7, 'n_epochs': 90, 'init_low': 5, 'init_high': 1}. Best is trial 26 with value: 1.0011956014445267.\u001b[0m\n"
          ],
          "name": "stderr"
        },
        {
          "output_type": "stream",
          "text": [
            "RMSE: 1.0063\n"
          ],
          "name": "stdout"
        },
        {
          "output_type": "stream",
          "text": [
            "\u001b[32m[I 2021-06-08 20:34:39,100]\u001b[0m Trial 42 finished with value: 1.0046315324053534 and parameters: {'biased': True, 'n_factors': 3, 'n_epochs': 83, 'init_low': 5, 'init_high': 0}. Best is trial 26 with value: 1.0011956014445267.\u001b[0m\n"
          ],
          "name": "stderr"
        },
        {
          "output_type": "stream",
          "text": [
            "RMSE: 1.0046\n"
          ],
          "name": "stdout"
        },
        {
          "output_type": "stream",
          "text": [
            "\u001b[32m[I 2021-06-08 20:38:52,846]\u001b[0m Trial 43 finished with value: 1.0355451023712994 and parameters: {'biased': True, 'n_factors': 63, 'n_epochs': 94, 'init_low': 4, 'init_high': 1}. Best is trial 26 with value: 1.0011956014445267.\u001b[0m\n"
          ],
          "name": "stderr"
        },
        {
          "output_type": "stream",
          "text": [
            "RMSE: 1.0355\n"
          ],
          "name": "stdout"
        },
        {
          "output_type": "stream",
          "text": [
            "\u001b[32m[I 2021-06-08 20:40:19,159]\u001b[0m Trial 44 finished with value: 1.0118629089457047 and parameters: {'biased': True, 'n_factors': 8, 'n_epochs': 76, 'init_low': 3, 'init_high': 0}. Best is trial 26 with value: 1.0011956014445267.\u001b[0m\n"
          ],
          "name": "stderr"
        },
        {
          "output_type": "stream",
          "text": [
            "RMSE: 1.0119\n"
          ],
          "name": "stdout"
        },
        {
          "output_type": "stream",
          "text": [
            "\u001b[32m[I 2021-06-08 20:41:56,769]\u001b[0m Trial 45 finished with value: 2.541440950739879 and parameters: {'biased': True, 'n_factors': 2, 'n_epochs': 100, 'init_low': 4, 'init_high': 1}. Best is trial 26 with value: 1.0011956014445267.\u001b[0m\n"
          ],
          "name": "stderr"
        },
        {
          "output_type": "stream",
          "text": [
            "RMSE: 2.5414\n"
          ],
          "name": "stdout"
        },
        {
          "output_type": "stream",
          "text": [
            "\u001b[32m[I 2021-06-08 20:44:19,127]\u001b[0m Trial 46 finished with value: 1.0248904973601993 and parameters: {'biased': True, 'n_factors': 23, 'n_epochs': 90, 'init_low': 4, 'init_high': 2}. Best is trial 26 with value: 1.0011956014445267.\u001b[0m\n"
          ],
          "name": "stderr"
        },
        {
          "output_type": "stream",
          "text": [
            "RMSE: 1.0249\n"
          ],
          "name": "stdout"
        },
        {
          "output_type": "stream",
          "text": [
            "\u001b[32m[I 2021-06-08 20:46:10,611]\u001b[0m Trial 47 finished with value: 1.0132509292488308 and parameters: {'biased': True, 'n_factors': 15, 'n_epochs': 82, 'init_low': 5, 'init_high': 1}. Best is trial 26 with value: 1.0011956014445267.\u001b[0m\n"
          ],
          "name": "stderr"
        },
        {
          "output_type": "stream",
          "text": [
            "RMSE: 1.0133\n"
          ],
          "name": "stdout"
        },
        {
          "output_type": "stream",
          "text": [
            "\u001b[32m[I 2021-06-08 20:48:19,105]\u001b[0m Trial 48 finished with value: 1.0248793670249259 and parameters: {'biased': True, 'n_factors': 31, 'n_epochs': 71, 'init_low': 3, 'init_high': 0}. Best is trial 26 with value: 1.0011956014445267.\u001b[0m\n"
          ],
          "name": "stderr"
        },
        {
          "output_type": "stream",
          "text": [
            "RMSE: 1.0249\n"
          ],
          "name": "stdout"
        },
        {
          "output_type": "stream",
          "text": [
            "\u001b[32m[I 2021-06-08 20:51:30,312]\u001b[0m Trial 49 finished with value: 1.097063614893864 and parameters: {'biased': True, 'n_factors': 39, 'n_epochs': 94, 'init_low': 2, 'init_high': 1}. Best is trial 26 with value: 1.0011956014445267.\u001b[0m\n"
          ],
          "name": "stderr"
        },
        {
          "output_type": "stream",
          "text": [
            "RMSE: 1.0971\n"
          ],
          "name": "stdout"
        },
        {
          "output_type": "stream",
          "text": [
            "\u001b[32m[I 2021-06-08 20:53:13,347]\u001b[0m Trial 50 finished with value: 1.0144726706294225 and parameters: {'biased': True, 'n_factors': 9, 'n_epochs': 89, 'init_low': 4, 'init_high': 2}. Best is trial 26 with value: 1.0011956014445267.\u001b[0m\n"
          ],
          "name": "stderr"
        },
        {
          "output_type": "stream",
          "text": [
            "RMSE: 1.0145\n"
          ],
          "name": "stdout"
        },
        {
          "output_type": "stream",
          "text": [
            "\u001b[32m[I 2021-06-08 20:54:46,694]\u001b[0m Trial 51 finished with value: 1.0045788057188487 and parameters: {'biased': True, 'n_factors': 2, 'n_epochs': 97, 'init_low': 3, 'init_high': 1}. Best is trial 26 with value: 1.0011956014445267.\u001b[0m\n"
          ],
          "name": "stderr"
        },
        {
          "output_type": "stream",
          "text": [
            "RMSE: 1.0046\n"
          ],
          "name": "stdout"
        },
        {
          "output_type": "stream",
          "text": [
            "\u001b[32m[I 2021-06-08 20:57:11,432]\u001b[0m Trial 52 finished with value: 1.015183110549794 and parameters: {'biased': True, 'n_factors': 19, 'n_epochs': 99, 'init_low': 3, 'init_high': 1}. Best is trial 26 with value: 1.0011956014445267.\u001b[0m\n"
          ],
          "name": "stderr"
        },
        {
          "output_type": "stream",
          "text": [
            "RMSE: 1.0152\n"
          ],
          "name": "stdout"
        },
        {
          "output_type": "stream",
          "text": [
            "\u001b[32m[I 2021-06-08 20:58:32,730]\u001b[0m Trial 53 finished with value: 1.0035178568290242 and parameters: {'biased': True, 'n_factors': 2, 'n_epochs': 84, 'init_low': 3, 'init_high': 1}. Best is trial 26 with value: 1.0011956014445267.\u001b[0m\n"
          ],
          "name": "stderr"
        },
        {
          "output_type": "stream",
          "text": [
            "RMSE: 1.0035\n"
          ],
          "name": "stdout"
        },
        {
          "output_type": "stream",
          "text": [
            "\u001b[32m[I 2021-06-08 21:00:02,998]\u001b[0m Trial 54 finished with value: 1.0030470475507896 and parameters: {'biased': True, 'n_factors': 6, 'n_epochs': 83, 'init_low': 2, 'init_high': 2}. Best is trial 26 with value: 1.0011956014445267.\u001b[0m\n"
          ],
          "name": "stderr"
        },
        {
          "output_type": "stream",
          "text": [
            "RMSE: 1.0030\n"
          ],
          "name": "stdout"
        },
        {
          "output_type": "stream",
          "text": [
            "\u001b[32m[I 2021-06-08 21:01:52,908]\u001b[0m Trial 55 finished with value: 1.0070594395190784 and parameters: {'biased': True, 'n_factors': 16, 'n_epochs': 79, 'init_low': 2, 'init_high': 2}. Best is trial 26 with value: 1.0011956014445267.\u001b[0m\n"
          ],
          "name": "stderr"
        },
        {
          "output_type": "stream",
          "text": [
            "RMSE: 1.0071\n"
          ],
          "name": "stdout"
        },
        {
          "output_type": "stream",
          "text": [
            "\u001b[32m[I 2021-06-08 21:03:25,368]\u001b[0m Trial 56 finished with value: 1.006078212398182 and parameters: {'biased': True, 'n_factors': 6, 'n_epochs': 85, 'init_low': 5, 'init_high': 2}. Best is trial 26 with value: 1.0011956014445267.\u001b[0m\n"
          ],
          "name": "stderr"
        },
        {
          "output_type": "stream",
          "text": [
            "RMSE: 1.0061\n"
          ],
          "name": "stdout"
        },
        {
          "output_type": "stream",
          "text": [
            "\u001b[32m[I 2021-06-08 21:05:14,800]\u001b[0m Trial 57 finished with value: 1.008196878464303 and parameters: {'biased': True, 'n_factors': 12, 'n_epochs': 83, 'init_low': 0, 'init_high': 3}. Best is trial 26 with value: 1.0011956014445267.\u001b[0m\n"
          ],
          "name": "stderr"
        },
        {
          "output_type": "stream",
          "text": [
            "RMSE: 1.0082\n"
          ],
          "name": "stdout"
        },
        {
          "output_type": "stream",
          "text": [
            "\u001b[32m[I 2021-06-08 21:07:17,481]\u001b[0m Trial 58 finished with value: 1.002601777819685 and parameters: {'biased': True, 'n_factors': 26, 'n_epochs': 74, 'init_low': 2, 'init_high': 2}. Best is trial 26 with value: 1.0011956014445267.\u001b[0m\n"
          ],
          "name": "stderr"
        },
        {
          "output_type": "stream",
          "text": [
            "RMSE: 1.0026\n"
          ],
          "name": "stdout"
        },
        {
          "output_type": "stream",
          "text": [
            "\u001b[32m[I 2021-06-08 21:08:30,014]\u001b[0m Trial 59 finished with value: 1.002560430051827 and parameters: {'biased': True, 'n_factors': 6, 'n_epochs': 67, 'init_low': 2, 'init_high': 2}. Best is trial 26 with value: 1.0011956014445267.\u001b[0m\n"
          ],
          "name": "stderr"
        },
        {
          "output_type": "stream",
          "text": [
            "RMSE: 1.0026\n"
          ],
          "name": "stdout"
        },
        {
          "output_type": "stream",
          "text": [
            "\u001b[32m[I 2021-06-08 21:10:24,899]\u001b[0m Trial 60 finished with value: 1.004018574015128 and parameters: {'biased': True, 'n_factors': 27, 'n_epochs': 68, 'init_low': 2, 'init_high': 2}. Best is trial 26 with value: 1.0011956014445267.\u001b[0m\n"
          ],
          "name": "stderr"
        },
        {
          "output_type": "stream",
          "text": [
            "RMSE: 1.0040\n"
          ],
          "name": "stdout"
        },
        {
          "output_type": "stream",
          "text": [
            "\u001b[32m[I 2021-06-08 21:11:45,454]\u001b[0m Trial 61 finished with value: 1.0048675869763726 and parameters: {'biased': True, 'n_factors': 6, 'n_epochs': 75, 'init_low': 2, 'init_high': 2}. Best is trial 26 with value: 1.0011956014445267.\u001b[0m\n"
          ],
          "name": "stderr"
        },
        {
          "output_type": "stream",
          "text": [
            "RMSE: 1.0049\n"
          ],
          "name": "stdout"
        },
        {
          "output_type": "stream",
          "text": [
            "\u001b[32m[I 2021-06-08 21:13:18,022]\u001b[0m Trial 62 finished with value: 1.0249576611320983 and parameters: {'biased': True, 'n_factors': 16, 'n_epochs': 67, 'init_low': 1, 'init_high': 2}. Best is trial 26 with value: 1.0011956014445267.\u001b[0m\n"
          ],
          "name": "stderr"
        },
        {
          "output_type": "stream",
          "text": [
            "RMSE: 1.0250\n"
          ],
          "name": "stdout"
        },
        {
          "output_type": "stream",
          "text": [
            "\u001b[32m[I 2021-06-08 21:14:41,289]\u001b[0m Trial 63 finished with value: 1.0033260190369366 and parameters: {'biased': True, 'n_factors': 9, 'n_epochs': 72, 'init_low': 2, 'init_high': 2}. Best is trial 26 with value: 1.0011956014445267.\u001b[0m\n"
          ],
          "name": "stderr"
        },
        {
          "output_type": "stream",
          "text": [
            "RMSE: 1.0033\n"
          ],
          "name": "stdout"
        },
        {
          "output_type": "stream",
          "text": [
            "\u001b[32m[I 2021-06-08 21:15:51,872]\u001b[0m Trial 64 finished with value: 1.0099643689305786 and parameters: {'biased': True, 'n_factors': 9, 'n_epochs': 61, 'init_low': 2, 'init_high': 3}. Best is trial 26 with value: 1.0011956014445267.\u001b[0m\n"
          ],
          "name": "stderr"
        },
        {
          "output_type": "stream",
          "text": [
            "RMSE: 1.0100\n"
          ],
          "name": "stdout"
        },
        {
          "output_type": "stream",
          "text": [
            "\u001b[32m[I 2021-06-08 21:17:22,792]\u001b[0m Trial 65 finished with value: 1.0166126596053118 and parameters: {'biased': True, 'n_factors': 13, 'n_epochs': 70, 'init_low': 1, 'init_high': 2}. Best is trial 26 with value: 1.0011956014445267.\u001b[0m\n"
          ],
          "name": "stderr"
        },
        {
          "output_type": "stream",
          "text": [
            "RMSE: 1.0166\n"
          ],
          "name": "stdout"
        },
        {
          "output_type": "stream",
          "text": [
            "\u001b[32m[I 2021-06-08 21:18:41,287]\u001b[0m Trial 66 finished with value: 1.0032318474940356 and parameters: {'biased': True, 'n_factors': 6, 'n_epochs': 73, 'init_low': 2, 'init_high': 2}. Best is trial 26 with value: 1.0011956014445267.\u001b[0m\n"
          ],
          "name": "stderr"
        },
        {
          "output_type": "stream",
          "text": [
            "RMSE: 1.0032\n"
          ],
          "name": "stdout"
        },
        {
          "output_type": "stream",
          "text": [
            "\u001b[32m[I 2021-06-08 21:19:43,659]\u001b[0m Trial 67 finished with value: 1.0122812650048678 and parameters: {'biased': True, 'n_factors': 5, 'n_epochs': 59, 'init_low': 2, 'init_high': 3}. Best is trial 26 with value: 1.0011956014445267.\u001b[0m\n"
          ],
          "name": "stderr"
        },
        {
          "output_type": "stream",
          "text": [
            "RMSE: 1.0123\n"
          ],
          "name": "stdout"
        },
        {
          "output_type": "stream",
          "text": [
            "\u001b[32m[I 2021-06-08 21:21:26,112]\u001b[0m Trial 68 finished with value: 1.0219017004099364 and parameters: {'biased': True, 'n_factors': 23, 'n_epochs': 65, 'init_low': 1, 'init_high': 2}. Best is trial 26 with value: 1.0011956014445267.\u001b[0m\n"
          ],
          "name": "stderr"
        },
        {
          "output_type": "stream",
          "text": [
            "RMSE: 1.0219\n"
          ],
          "name": "stdout"
        },
        {
          "output_type": "stream",
          "text": [
            "\u001b[32m[I 2021-06-08 21:23:14,986]\u001b[0m Trial 69 finished with value: 1.0070594395190784 and parameters: {'biased': True, 'n_factors': 16, 'n_epochs': 79, 'init_low': 2, 'init_high': 2}. Best is trial 26 with value: 1.0011956014445267.\u001b[0m\n"
          ],
          "name": "stderr"
        },
        {
          "output_type": "stream",
          "text": [
            "RMSE: 1.0071\n"
          ],
          "name": "stdout"
        },
        {
          "output_type": "stream",
          "text": [
            "\u001b[32m[I 2021-06-08 21:24:54,703]\u001b[0m Trial 70 finished with value: 1.1542235690749865 and parameters: {'biased': False, 'n_factors': 13, 'n_epochs': 77, 'init_low': 1, 'init_high': 3}. Best is trial 26 with value: 1.0011956014445267.\u001b[0m\n"
          ],
          "name": "stderr"
        },
        {
          "output_type": "stream",
          "text": [
            "RMSE: 1.1542\n"
          ],
          "name": "stdout"
        },
        {
          "output_type": "stream",
          "text": [
            "\u001b[32m[I 2021-06-08 21:26:23,021]\u001b[0m Trial 71 finished with value: 1.0029467691737486 and parameters: {'biased': True, 'n_factors': 9, 'n_epochs': 76, 'init_low': 2, 'init_high': 2}. Best is trial 26 with value: 1.0011956014445267.\u001b[0m\n"
          ],
          "name": "stderr"
        },
        {
          "output_type": "stream",
          "text": [
            "RMSE: 1.0029\n"
          ],
          "name": "stdout"
        },
        {
          "output_type": "stream",
          "text": [
            "\u001b[32m[I 2021-06-08 21:27:45,779]\u001b[0m Trial 72 finished with value: 1.003060303243588 and parameters: {'biased': True, 'n_factors': 7, 'n_epochs': 75, 'init_low': 2, 'init_high': 2}. Best is trial 26 with value: 1.0011956014445267.\u001b[0m\n"
          ],
          "name": "stderr"
        },
        {
          "output_type": "stream",
          "text": [
            "RMSE: 1.0031\n"
          ],
          "name": "stdout"
        },
        {
          "output_type": "stream",
          "text": [
            "\u001b[32m[I 2021-06-08 21:29:04,157]\u001b[0m Trial 73 finished with value: 1.0032318474940356 and parameters: {'biased': True, 'n_factors': 6, 'n_epochs': 73, 'init_low': 2, 'init_high': 2}. Best is trial 26 with value: 1.0011956014445267.\u001b[0m\n"
          ],
          "name": "stderr"
        },
        {
          "output_type": "stream",
          "text": [
            "RMSE: 1.0032\n"
          ],
          "name": "stdout"
        },
        {
          "output_type": "stream",
          "text": [
            "\u001b[32m[I 2021-06-08 21:30:42,199]\u001b[0m Trial 74 finished with value: 1.002961561595438 and parameters: {'biased': True, 'n_factors': 18, 'n_epochs': 68, 'init_low': 2, 'init_high': 2}. Best is trial 26 with value: 1.0011956014445267.\u001b[0m\n"
          ],
          "name": "stderr"
        },
        {
          "output_type": "stream",
          "text": [
            "RMSE: 1.0030\n"
          ],
          "name": "stdout"
        },
        {
          "output_type": "stream",
          "text": [
            "\u001b[32m[I 2021-06-08 21:32:24,250]\u001b[0m Trial 75 finished with value: 1.071526312796275 and parameters: {'biased': True, 'n_factors': 20, 'n_epochs': 68, 'init_low': 2, 'init_high': 3}. Best is trial 26 with value: 1.0011956014445267.\u001b[0m\n"
          ],
          "name": "stderr"
        },
        {
          "output_type": "stream",
          "text": [
            "RMSE: 1.0715\n"
          ],
          "name": "stdout"
        },
        {
          "output_type": "stream",
          "text": [
            "\u001b[32m[I 2021-06-08 21:33:58,801]\u001b[0m Trial 76 finished with value: 1.0029885652301067 and parameters: {'biased': True, 'n_factors': 18, 'n_epochs': 65, 'init_low': 2, 'init_high': 2}. Best is trial 26 with value: 1.0011956014445267.\u001b[0m\n"
          ],
          "name": "stderr"
        },
        {
          "output_type": "stream",
          "text": [
            "RMSE: 1.0030\n"
          ],
          "name": "stdout"
        },
        {
          "output_type": "stream",
          "text": [
            "\u001b[32m[I 2021-06-08 21:35:21,910]\u001b[0m Trial 77 finished with value: 1.0032963897399954 and parameters: {'biased': True, 'n_factors': 18, 'n_epochs': 56, 'init_low': 2, 'init_high': 2}. Best is trial 26 with value: 1.0011956014445267.\u001b[0m\n"
          ],
          "name": "stderr"
        },
        {
          "output_type": "stream",
          "text": [
            "RMSE: 1.0033\n"
          ],
          "name": "stdout"
        },
        {
          "output_type": "stream",
          "text": [
            "\u001b[32m[I 2021-06-08 21:37:09,267]\u001b[0m Trial 78 finished with value: 1.0027021843415784 and parameters: {'biased': True, 'n_factors': 25, 'n_epochs': 65, 'init_low': 2, 'init_high': 2}. Best is trial 26 with value: 1.0011956014445267.\u001b[0m\n"
          ],
          "name": "stderr"
        },
        {
          "output_type": "stream",
          "text": [
            "RMSE: 1.0027\n"
          ],
          "name": "stdout"
        },
        {
          "output_type": "stream",
          "text": [
            "\u001b[32m[I 2021-06-08 21:39:13,274]\u001b[0m Trial 79 finished with value: 1.0034867543017707 and parameters: {'biased': True, 'n_factors': 34, 'n_epochs': 65, 'init_low': 2, 'init_high': 2}. Best is trial 26 with value: 1.0011956014445267.\u001b[0m\n"
          ],
          "name": "stderr"
        },
        {
          "output_type": "stream",
          "text": [
            "RMSE: 1.0035\n"
          ],
          "name": "stdout"
        }
      ]
    },
    {
      "cell_type": "code",
      "metadata": {
        "id": "qkAHfGZos55r",
        "colab": {
          "base_uri": "https://localhost:8080/"
        },
        "outputId": "37bbac7e-16db-4956-81b4-72050f8dd392"
      },
      "source": [
        "# NOTE: We do not prune any trials since surprise does not support partial fit.\n",
        "pruned_trials = [t for t in study.trials if t.state == optuna.trial.TrialState.PRUNED]\n",
        "complete_trials = [t for t in study.trials if t.state == optuna.trial.TrialState.COMPLETE]\n",
        "\n",
        "print(\"Study statistics: \")\n",
        "print(\"  Number of finished trials: \", len(study.trials))\n",
        "print(\"  Number of pruned trials: \", len(pruned_trials))\n",
        "print(\"  Number of complete trials: \", len(complete_trials))\n",
        "\n",
        "print(\"Best trial:\")\n",
        "trial = study.best_trial\n",
        "\n",
        "print(\"  Value: \", trial.value)\n",
        "\n",
        "print(\"  Params: \")\n",
        "for key, value in trial.params.items():\n",
        "    print(\"    {}: {}\".format(key, value))"
      ],
      "execution_count": null,
      "outputs": [
        {
          "output_type": "stream",
          "text": [
            "Study statistics: \n",
            "  Number of finished trials:  80\n",
            "  Number of pruned trials:  0\n",
            "  Number of complete trials:  80\n",
            "Best trial:\n",
            "  Value:  1.0011956014445267\n",
            "  Params: \n",
            "    biased: True\n",
            "    n_factors: 11\n",
            "    n_epochs: 76\n",
            "    init_low: 0\n",
            "    init_high: 1\n"
          ],
          "name": "stdout"
        }
      ]
    },
    {
      "cell_type": "code",
      "metadata": {
        "colab": {
          "base_uri": "https://localhost:8080/",
          "height": 34
        },
        "id": "uD1hKcWdi7gZ",
        "outputId": "47abe000-397b-4ec8-d7ab-7d741820c104"
      },
      "source": [
        "test_pd = load_data(\n",
        "    file_path=TEST_DATA_PATH,\n",
        "    full_dataset=full_dataset,\n",
        "    train_val_split=False\n",
        ")\n",
        "\n",
        "train_data = create_surprise_data(train_pd).build_full_trainset()\n",
        "test_ids, test_data = create_dataset(test_pd, test_dataset=True)\n",
        "test_ids = test_ids.to_numpy()\n",
        "\n",
        "from surprise import NMF\n",
        "\n",
        "biased = True\n",
        "n_factors = 11\n",
        "n_epochs = 76\n",
        "init_low = 0\n",
        "init_high = 1\n",
        "\n",
        "algo = NMF(biased=biased, n_factors=n_factors, n_epochs=n_epochs, init_low=init_low, init_high=init_high)\n",
        "\n",
        "algo.fit(train_data)\n",
        "\n",
        "predictions = []\n",
        "for user, movie in test_data:\n",
        "    prediction = algo.predict(user.item(), movie.item()).est\n",
        "    predictions.append(prediction)\n",
        "\n",
        "output = np.stack((test_ids, predictions), axis=1)\n",
        "\n",
        "pd.DataFrame(output, columns=[\"Id\", \"Prediction\"]).to_csv(\"nmf_output.csv\", index=None)\n",
        "files.download(\"nmf_output.csv\")"
      ],
      "execution_count": null,
      "outputs": [
        {
          "output_type": "display_data",
          "data": {
            "application/javascript": [
              "\n",
              "    async function download(id, filename, size) {\n",
              "      if (!google.colab.kernel.accessAllowed) {\n",
              "        return;\n",
              "      }\n",
              "      const div = document.createElement('div');\n",
              "      const label = document.createElement('label');\n",
              "      label.textContent = `Downloading \"${filename}\": `;\n",
              "      div.appendChild(label);\n",
              "      const progress = document.createElement('progress');\n",
              "      progress.max = size;\n",
              "      div.appendChild(progress);\n",
              "      document.body.appendChild(div);\n",
              "\n",
              "      const buffers = [];\n",
              "      let downloaded = 0;\n",
              "\n",
              "      const channel = await google.colab.kernel.comms.open(id);\n",
              "      // Send a message to notify the kernel that we're ready.\n",
              "      channel.send({})\n",
              "\n",
              "      for await (const message of channel.messages) {\n",
              "        // Send a message to notify the kernel that we're ready.\n",
              "        channel.send({})\n",
              "        if (message.buffers) {\n",
              "          for (const buffer of message.buffers) {\n",
              "            buffers.push(buffer);\n",
              "            downloaded += buffer.byteLength;\n",
              "            progress.value = downloaded;\n",
              "          }\n",
              "        }\n",
              "      }\n",
              "      const blob = new Blob(buffers, {type: 'application/binary'});\n",
              "      const a = document.createElement('a');\n",
              "      a.href = window.URL.createObjectURL(blob);\n",
              "      a.download = filename;\n",
              "      div.appendChild(a);\n",
              "      a.click();\n",
              "      div.remove();\n",
              "    }\n",
              "  "
            ],
            "text/plain": [
              "<IPython.core.display.Javascript object>"
            ]
          },
          "metadata": {
            "tags": []
          }
        },
        {
          "output_type": "display_data",
          "data": {
            "application/javascript": [
              "download(\"download_0832ac9a-50f7-408f-a098-ef985547580a\", \"nmf_output.csv\", 34193722)"
            ],
            "text/plain": [
              "<IPython.core.display.Javascript object>"
            ]
          },
          "metadata": {
            "tags": []
          }
        }
      ]
    },
    {
      "cell_type": "code",
      "metadata": {
        "id": "pAJurU0tmY6h"
      },
      "source": [
        ""
      ],
      "execution_count": null,
      "outputs": []
    }
  ]
}