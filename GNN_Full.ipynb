{
  "nbformat": 4,
  "nbformat_minor": 0,
  "metadata": {
    "accelerator": "TPU",
    "colab": {
      "name": "GNN-Full.ipynb",
      "provenance": []
    },
    "kernelspec": {
      "display_name": "Python 3",
      "name": "python3"
    },
    "language_info": {
      "name": "python"
    }
  },
  "cells": [
    {
      "cell_type": "markdown",
      "metadata": {
        "id": "dGmq3TPg8Xyt"
      },
      "source": [
        "# NGCF: a baseline implementation"
      ]
    },
    {
      "cell_type": "markdown",
      "metadata": {
        "id": "bludi7iS816a"
      },
      "source": [
        "## 1. Imports"
      ]
    },
    {
      "cell_type": "code",
      "metadata": {
        "id": "Cfme9UKgFbx5"
      },
      "source": [
        "import torch\n",
        "import torch.nn as nn\n",
        "from torch.nn import Module\n",
        "from scipy.sparse import coo_matrix\n",
        "from scipy.sparse import vstack\n",
        "from scipy import sparse\n",
        "import numpy as np\n",
        "import pandas as pd\n",
        "from numpy import diag\n",
        "from torch.utils.data import DataLoader\n",
        "from torch.utils.data import random_split\n",
        "from torch.utils.data import Dataset\n",
        "from torch.optim import Adam\n",
        "from torch.nn import MSELoss\n",
        "from os import path\n",
        "import io"
      ],
      "execution_count": 1,
      "outputs": []
    },
    {
      "cell_type": "code",
      "metadata": {
        "colab": {
          "resources": {
            "http://localhost:8080/nbextensions/google.colab/files.js": {
              "data": "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",
              "ok": true,
              "headers": [
                [
                  "content-type",
                  "application/javascript"
                ]
              ],
              "status": 200,
              "status_text": ""
            }
          },
          "base_uri": "https://localhost:8080/",
          "height": 72
        },
        "id": "GxY8XbgMPeaP",
        "outputId": "ef06e82e-ab74-4f9c-ea93-f23cf3f28dcf"
      },
      "source": [
        "from google.colab import files\n",
        "uploaded = files.upload()"
      ],
      "execution_count": 2,
      "outputs": [
        {
          "output_type": "display_data",
          "data": {
            "text/html": [
              "\n",
              "     <input type=\"file\" id=\"files-35a345ee-c4f2-425b-96c7-396d35910319\" name=\"files[]\" multiple disabled\n",
              "        style=\"border:none\" />\n",
              "     <output id=\"result-35a345ee-c4f2-425b-96c7-396d35910319\">\n",
              "      Upload widget is only available when the cell has been executed in the\n",
              "      current browser session. Please rerun this cell to enable.\n",
              "      </output>\n",
              "      <script src=\"/nbextensions/google.colab/files.js\"></script> "
            ],
            "text/plain": [
              "<IPython.core.display.HTML object>"
            ]
          },
          "metadata": {
            "tags": []
          }
        },
        {
          "output_type": "stream",
          "text": [
            "Saving data_train.csv to data_train.csv\n"
          ],
          "name": "stdout"
        }
      ]
    },
    {
      "cell_type": "markdown",
      "metadata": {
        "id": "mx5maTvd8u8B"
      },
      "source": [
        "## 2. Utils"
      ]
    },
    {
      "cell_type": "markdown",
      "metadata": {
        "id": "VQTyIzP584P3"
      },
      "source": [
        "### 2.1. Data loader"
      ]
    },
    {
      "cell_type": "code",
      "metadata": {
        "id": "fA33b2VoFxDH"
      },
      "source": [
        "# load 100k data\n",
        "\n",
        "def extract_users_items_predictions(data_pd):\n",
        "    users, movies = \\\n",
        "        [np.squeeze(arr) for arr in np.split(data_pd.Id.str.extract('r(\\d+)_c(\\d+)').values.astype(int) - 1, 2, axis=-1)]\n",
        "    predictions = data_pd.Prediction.values\n",
        "    return users, movies, predictions\n",
        "\n",
        "def load100KRatings():\n",
        "    data_pd = pd.read_csv(io.BytesIO(uploaded['data_train.csv']))\n",
        "    print(\"BEFORE: \", data_pd.shape)\n",
        "    users, movies, ratings = extract_users_items_predictions(data_pd)\n",
        "    df = pd.DataFrame({'userId': users, 'itemId': movies, 'rating': ratings})\n",
        "    #df = pd.read_table(path100k+r'\\u.data',sep='\\t',names=['userId','itemId','rating','timestamp'])\n",
        "    return df\n",
        "\n",
        "\n",
        "# movielens 1k\n",
        "class ML1K(Dataset):\n",
        "\n",
        "    def __init__(self,rt):\n",
        "        super(Dataset,self).__init__()\n",
        "        self.uId = list(rt['userId'])\n",
        "        self.iId = list(rt['itemId'])\n",
        "        self.rt = list(rt['rating'])\n",
        "\n",
        "    def __len__(self):\n",
        "        return len(self.uId)\n",
        "\n",
        "    def __getitem__(self, item):\n",
        "        return (self.uId[item],self.iId[item],self.rt[item])\n",
        "\n"
      ],
      "execution_count": 3,
      "outputs": []
    },
    {
      "cell_type": "markdown",
      "metadata": {
        "id": "UnZmjZJO89Fe"
      },
      "source": [
        "### 2.2. Early stopping"
      ]
    },
    {
      "cell_type": "code",
      "metadata": {
        "id": "jIsRcGPv9FEy"
      },
      "source": [
        ""
      ],
      "execution_count": 3,
      "outputs": []
    },
    {
      "cell_type": "markdown",
      "metadata": {
        "id": "N_R913Q09FR-"
      },
      "source": [
        "## 3. Model"
      ]
    },
    {
      "cell_type": "code",
      "metadata": {
        "id": "sV3cOAO3FY8X"
      },
      "source": [
        "class GNNLayer(Module):\n",
        "\n",
        "    def __init__(self,inF,outF):\n",
        "\n",
        "        super(GNNLayer,self).__init__()\n",
        "        self.inF = inF\n",
        "        self.outF = outF\n",
        "        self.linear = torch.nn.Linear(in_features=inF,out_features=outF)\n",
        "        self.interActTransform = torch.nn.Linear(in_features=inF,out_features=outF)\n",
        "\n",
        "    def forward(self, laplacianMat,selfLoop,features):\n",
        "        # for GCF ajdMat is a (N+M) by (N+M) mat\n",
        "        # laplacianMat L = D^-1(A)D^-1\n",
        "        L1 = laplacianMat + selfLoop\n",
        "        L2 = laplacianMat#.cuda()\n",
        "        L1 = L1#.cuda()\n",
        "        inter_feature = torch.sparse.mm(L2,features)\n",
        "        inter_feature = torch.mul(inter_feature,features)\n",
        "\n",
        "        inter_part1 = self.linear(torch.sparse.mm(L1,features))\n",
        "        inter_part2 = self.interActTransform(torch.sparse.mm(L2,inter_feature))\n",
        "\n",
        "        return inter_part1+inter_part2\n",
        "\n",
        "class GCF(Module):\n",
        "\n",
        "    def __init__(self,userNum,itemNum,rt,embedSize=100,layers=[100,80,50],useCuda=False):\n",
        "\n",
        "        super(GCF,self).__init__()\n",
        "        self.useCuda = useCuda\n",
        "        self.userNum = userNum\n",
        "        self.itemNum = itemNum\n",
        "        self.uEmbd = nn.Embedding(userNum,embedSize)\n",
        "        self.iEmbd = nn.Embedding(itemNum,embedSize)\n",
        "        self.GNNlayers = torch.nn.ModuleList()\n",
        "        self.LaplacianMat = self.buildLaplacianMat(rt) # sparse format\n",
        "        self.leakyRelu = nn.LeakyReLU()\n",
        "        self.selfLoop = self.getSparseEye(self.userNum+self.itemNum)\n",
        "\n",
        "        self.transForm1 = nn.Linear(in_features=layers[-1]*(len(layers))*2,out_features=64)\n",
        "        self.transForm2 = nn.Linear(in_features=64,out_features=32)\n",
        "        self.transForm3 = nn.Linear(in_features=32,out_features=1)\n",
        "\n",
        "        for From,To in zip(layers[:-1],layers[1:]):\n",
        "            self.GNNlayers.append(GNNLayer(From,To))\n",
        "\n",
        "    def getSparseEye(self,num):\n",
        "        i = torch.LongTensor([[k for k in range(0,num)],[j for j in range(0,num)]])\n",
        "        val = torch.FloatTensor([1]*num)\n",
        "        return torch.sparse.FloatTensor(i,val)\n",
        "\n",
        "    def buildLaplacianMat(self,rt):\n",
        "\n",
        "        rt_item = rt['itemId'] + self.userNum\n",
        "        uiMat = coo_matrix((rt['rating'], (rt['userId'], rt['itemId'])))\n",
        "\n",
        "        uiMat_upperPart = coo_matrix((rt['rating'], (rt['userId'], rt_item)))\n",
        "        uiMat = uiMat.transpose()\n",
        "        uiMat.resize((self.itemNum, self.userNum + self.itemNum))\n",
        "\n",
        "        #print(uiMat_upperPart)\n",
        "        #print(uiMat.shape)\n",
        "\n",
        "        A = sparse.vstack([uiMat_upperPart,uiMat])\n",
        "        selfLoop = sparse.eye(self.userNum+self.itemNum)\n",
        "        sumArr = (A>0).sum(axis=1)\n",
        "        diag = list(np.array(sumArr.flatten())[0])\n",
        "        diag = np.power(diag,-0.5)\n",
        "        D = sparse.diags(diag)\n",
        "        L = D * A * D\n",
        "        L = sparse.coo_matrix(L)\n",
        "        row = L.row\n",
        "        col = L.col\n",
        "        i = torch.LongTensor([row,col])\n",
        "        data = torch.FloatTensor(L.data)\n",
        "        SparseL = torch.sparse.FloatTensor(i,data)\n",
        "        return SparseL\n",
        "\n",
        "    def getFeatureMat(self):\n",
        "        uidx = torch.LongTensor([i for i in range(self.userNum)])\n",
        "        iidx = torch.LongTensor([i for i in range(self.itemNum)])\n",
        "        if self.useCuda == True:\n",
        "            uidx = uidx.cuda()\n",
        "            iidx = iidx.cuda()\n",
        "\n",
        "        userEmbd = self.uEmbd(uidx)\n",
        "        itemEmbd = self.iEmbd(iidx)\n",
        "        features = torch.cat([userEmbd,itemEmbd],dim=0)\n",
        "        return features\n",
        "\n",
        "    def forward(self,userIdx,itemIdx):\n",
        "\n",
        "        itemIdx = itemIdx + self.userNum\n",
        "        userIdx = list(userIdx)#.cpu().data)\n",
        "        itemIdx = list(itemIdx)#.cpu().data)\n",
        "        # gcf data propagation\n",
        "        features = self.getFeatureMat()\n",
        "        finalEmbd = features.clone()\n",
        "        for gnn in self.GNNlayers:\n",
        "            features = gnn(self.LaplacianMat,self.selfLoop,features)\n",
        "            features = nn.ReLU()(features)\n",
        "            finalEmbd = torch.cat([finalEmbd,features.clone()],dim=1)\n",
        "\n",
        "        userEmbd = finalEmbd[userIdx]\n",
        "        itemEmbd = finalEmbd[itemIdx]\n",
        "        embd = torch.cat([userEmbd,itemEmbd],dim=1)\n",
        "\n",
        "        embd = nn.ReLU()(self.transForm1(embd))\n",
        "        embd = self.transForm2(embd)\n",
        "        embd = self.transForm3(embd)\n",
        "        prediction = embd.flatten()\n",
        "\n",
        "        return prediction"
      ],
      "execution_count": 4,
      "outputs": []
    },
    {
      "cell_type": "code",
      "metadata": {
        "id": "h_xExMh5F24R"
      },
      "source": [
        ""
      ],
      "execution_count": 4,
      "outputs": []
    },
    {
      "cell_type": "markdown",
      "metadata": {
        "id": "zk8PsKNA9TNo"
      },
      "source": [
        "## 4. Main"
      ]
    },
    {
      "cell_type": "code",
      "metadata": {
        "colab": {
          "base_uri": "https://localhost:8080/",
          "height": 436
        },
        "id": "YLJoUbQ5F26V",
        "outputId": "c91fcec5-4c05-4673-ff46-e61318a2e27b"
      },
      "source": [
        "rt = load100KRatings()\n",
        "userNum = rt['userId'].max() + 1\n",
        "itemNum = rt['itemId'].max() + 1\n",
        "\n",
        "rt['userId'] = rt['userId']\n",
        "rt['itemId'] = rt['itemId']\n",
        "\n",
        "rt"
      ],
      "execution_count": 5,
      "outputs": [
        {
          "output_type": "stream",
          "text": [
            "BEFORE:  (1176952, 2)\n"
          ],
          "name": "stdout"
        },
        {
          "output_type": "execute_result",
          "data": {
            "text/html": [
              "<div>\n",
              "<style scoped>\n",
              "    .dataframe tbody tr th:only-of-type {\n",
              "        vertical-align: middle;\n",
              "    }\n",
              "\n",
              "    .dataframe tbody tr th {\n",
              "        vertical-align: top;\n",
              "    }\n",
              "\n",
              "    .dataframe thead th {\n",
              "        text-align: right;\n",
              "    }\n",
              "</style>\n",
              "<table border=\"1\" class=\"dataframe\">\n",
              "  <thead>\n",
              "    <tr style=\"text-align: right;\">\n",
              "      <th></th>\n",
              "      <th>userId</th>\n",
              "      <th>itemId</th>\n",
              "      <th>rating</th>\n",
              "    </tr>\n",
              "  </thead>\n",
              "  <tbody>\n",
              "    <tr>\n",
              "      <th>0</th>\n",
              "      <td>43</td>\n",
              "      <td>0</td>\n",
              "      <td>4</td>\n",
              "    </tr>\n",
              "    <tr>\n",
              "      <th>1</th>\n",
              "      <td>60</td>\n",
              "      <td>0</td>\n",
              "      <td>3</td>\n",
              "    </tr>\n",
              "    <tr>\n",
              "      <th>2</th>\n",
              "      <td>66</td>\n",
              "      <td>0</td>\n",
              "      <td>4</td>\n",
              "    </tr>\n",
              "    <tr>\n",
              "      <th>3</th>\n",
              "      <td>71</td>\n",
              "      <td>0</td>\n",
              "      <td>3</td>\n",
              "    </tr>\n",
              "    <tr>\n",
              "      <th>4</th>\n",
              "      <td>85</td>\n",
              "      <td>0</td>\n",
              "      <td>5</td>\n",
              "    </tr>\n",
              "    <tr>\n",
              "      <th>...</th>\n",
              "      <td>...</td>\n",
              "      <td>...</td>\n",
              "      <td>...</td>\n",
              "    </tr>\n",
              "    <tr>\n",
              "      <th>1176947</th>\n",
              "      <td>9989</td>\n",
              "      <td>999</td>\n",
              "      <td>4</td>\n",
              "    </tr>\n",
              "    <tr>\n",
              "      <th>1176948</th>\n",
              "      <td>9991</td>\n",
              "      <td>999</td>\n",
              "      <td>5</td>\n",
              "    </tr>\n",
              "    <tr>\n",
              "      <th>1176949</th>\n",
              "      <td>9993</td>\n",
              "      <td>999</td>\n",
              "      <td>3</td>\n",
              "    </tr>\n",
              "    <tr>\n",
              "      <th>1176950</th>\n",
              "      <td>9996</td>\n",
              "      <td>999</td>\n",
              "      <td>4</td>\n",
              "    </tr>\n",
              "    <tr>\n",
              "      <th>1176951</th>\n",
              "      <td>9999</td>\n",
              "      <td>999</td>\n",
              "      <td>3</td>\n",
              "    </tr>\n",
              "  </tbody>\n",
              "</table>\n",
              "<p>1176952 rows × 3 columns</p>\n",
              "</div>"
            ],
            "text/plain": [
              "         userId  itemId  rating\n",
              "0            43       0       4\n",
              "1            60       0       3\n",
              "2            66       0       4\n",
              "3            71       0       3\n",
              "4            85       0       5\n",
              "...         ...     ...     ...\n",
              "1176947    9989     999       4\n",
              "1176948    9991     999       5\n",
              "1176949    9993     999       3\n",
              "1176950    9996     999       4\n",
              "1176951    9999     999       3\n",
              "\n",
              "[1176952 rows x 3 columns]"
            ]
          },
          "metadata": {
            "tags": []
          },
          "execution_count": 5
        }
      ]
    },
    {
      "cell_type": "code",
      "metadata": {
        "colab": {
          "base_uri": "https://localhost:8080/"
        },
        "id": "Ad7p5bSlF9nv",
        "outputId": "65fab8a1-4984-4e63-a725-c2a6ef678002"
      },
      "source": [
        "para = {\n",
        "    'epoch':60,\n",
        "    'lr':0.01,\n",
        "    'batch_size':2048,\n",
        "    'train':0.8,\n",
        "    'val': 0.2,\n",
        "    'patience': 3 # number of epochs we are willing to wait \n",
        "}\n",
        "\n",
        "ds = ML1K(rt)\n",
        "# Get test set\n",
        "trainLen = int(para['train']*len(ds))\n",
        "train, test = random_split(ds, [trainLen,len(ds)-trainLen])\n",
        "\n",
        "# Get validation and training set\n",
        "valLen = int(para['val']*len(train))\n",
        "validation, train = random_split(train, [valLen,len(train)-valLen])\n",
        "\n",
        "dl = DataLoader(train,batch_size=para['batch_size'],shuffle=True,pin_memory=True)\n",
        "\n",
        "model = GCF(userNum, itemNum, rt, 64, layers=[64,64,64])#.cuda()\n",
        "# model = SVD(userNum,itemNum,50).cuda()\n",
        "# model = NCF(userNum,itemNum,64,layers=[128,64,32,16,8]).cuda()\n",
        "optim = Adam(model.parameters(), lr=para['lr'],weight_decay=0.001)\n",
        "lossfn = MSELoss()\n",
        "\n",
        "min_val_loss = 1e3\n",
        "wait_param = 0\n",
        "for i in range(para['epoch']):\n",
        "    # Training loop\n",
        "    for id,batch in enumerate(dl):\n",
        "        #print('epoch:',i,' batch:',id)\n",
        "        optim.zero_grad()\n",
        "        prediction = model(batch[0], batch[1])#.cuda()\n",
        "        loss = lossfn(batch[2].float(),prediction)#.cuda()\n",
        "        loss.backward()\n",
        "        optim.step()\n",
        "    \n",
        "    # Check whether early stopping is needed after epoch n.6\n",
        "    valdl = DataLoader(validation,batch_size=len(validation),)\n",
        "    for data in valdl:\n",
        "        prediction = model(data[0],data[1])#.cuda()\n",
        "    loss_val = lossfn(data[2].float(),prediction)\n",
        "\n",
        "    print('epoch:', i ,'train-loss:', loss, 'val-loss:', loss_val)\n",
        "\n",
        "    if i > 5:\n",
        "      if loss_val < min_val_loss:\n",
        "        min_val_loss = loss_val\n",
        "        wait_param = 0\n",
        "      else:\n",
        "        wait_param += 1\n",
        "      if wait_param >= para['patience']:\n",
        "        break\n",
        "\n",
        "testdl = DataLoader(test,batch_size=len(test),)\n",
        "for data in testdl:\n",
        "    prediction = model(data[0],data[1])#.cuda()\n",
        "\n",
        "loss = lossfn(data[2].float(),prediction)\n",
        "\n",
        "print(prediction)\n",
        "print(data[2].int())\n",
        "accuracy = 0\n",
        "for i in range(len(prediction)):\n",
        "  if prediction[i] >= data[2].float()[i] - 0.5 and prediction[i] <= data[2].float()[i] + 0.5:\n",
        "    accuracy += 1\n",
        "accuracy = accuracy/len(test)\n",
        "\n",
        "print('test-loss:', loss, 'accuracy:', accuracy)"
      ],
      "execution_count": 9,
      "outputs": [
        {
          "output_type": "stream",
          "text": [
            "epoch: 0 train-loss: tensor(0.9665, grad_fn=<MseLossBackward>) val-loss: tensor(1.0470, grad_fn=<MseLossBackward>)\n",
            "epoch: 1 train-loss: tensor(1.0503, grad_fn=<MseLossBackward>) val-loss: tensor(1.0355, grad_fn=<MseLossBackward>)\n",
            "epoch: 2 train-loss: tensor(1.0801, grad_fn=<MseLossBackward>) val-loss: tensor(1.0284, grad_fn=<MseLossBackward>)\n",
            "epoch: 3 train-loss: tensor(1.0556, grad_fn=<MseLossBackward>) val-loss: tensor(1.0446, grad_fn=<MseLossBackward>)\n",
            "epoch: 4 train-loss: tensor(1.0186, grad_fn=<MseLossBackward>) val-loss: tensor(1.0202, grad_fn=<MseLossBackward>)\n",
            "epoch: 5 train-loss: tensor(1.0279, grad_fn=<MseLossBackward>) val-loss: tensor(1.0194, grad_fn=<MseLossBackward>)\n",
            "epoch: 6 train-loss: tensor(1.0252, grad_fn=<MseLossBackward>) val-loss: tensor(1.0192, grad_fn=<MseLossBackward>)\n",
            "epoch: 7 train-loss: tensor(0.9781, grad_fn=<MseLossBackward>) val-loss: tensor(1.0656, grad_fn=<MseLossBackward>)\n",
            "epoch: 8 train-loss: tensor(1.0119, grad_fn=<MseLossBackward>) val-loss: tensor(1.0231, grad_fn=<MseLossBackward>)\n",
            "epoch: 9 train-loss: tensor(0.9976, grad_fn=<MseLossBackward>) val-loss: tensor(1.0179, grad_fn=<MseLossBackward>)\n",
            "epoch: 10 train-loss: tensor(1.0071, grad_fn=<MseLossBackward>) val-loss: tensor(1.0158, grad_fn=<MseLossBackward>)\n",
            "epoch: 11 train-loss: tensor(1.0505, grad_fn=<MseLossBackward>) val-loss: tensor(1.0312, grad_fn=<MseLossBackward>)\n",
            "epoch: 12 train-loss: tensor(0.9950, grad_fn=<MseLossBackward>) val-loss: tensor(1.0317, grad_fn=<MseLossBackward>)\n",
            "epoch: 13 train-loss: tensor(1.0483, grad_fn=<MseLossBackward>) val-loss: tensor(1.0160, grad_fn=<MseLossBackward>)\n",
            "tensor([4.0262, 3.1409, 3.1422,  ..., 3.6432, 4.7081, 4.1644],\n",
            "       grad_fn=<ViewBackward>)\n",
            "tensor([4, 5, 4,  ..., 4, 5, 5], dtype=torch.int32)\n",
            "test-loss: tensor(1.0151, grad_fn=<MseLossBackward>) accuracy: 0.35848014579996684\n"
          ],
          "name": "stdout"
        }
      ]
    },
    {
      "cell_type": "code",
      "metadata": {
        "id": "OzU8JiqdQJoI"
      },
      "source": [
        ""
      ],
      "execution_count": null,
      "outputs": []
    }
  ]
}